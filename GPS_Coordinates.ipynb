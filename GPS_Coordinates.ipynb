{
  "nbformat": 4,
  "nbformat_minor": 0,
  "metadata": {
    "colab": {
      "name": "GPS Coordinates.ipynb",
      "version": "0.3.2",
      "provenance": []
    },
    "kernelspec": {
      "name": "python3",
      "display_name": "Python 3"
    }
  },
  "cells": [
    {
      "metadata": {
        "id": "ePXg4ooEIsy1",
        "colab_type": "code",
        "colab": {
          "base_uri": "https://localhost:8080/",
          "height": 238
        },
        "outputId": "63faa379-62f2-4b81-8a09-9dd5928b7e53"
      },
      "cell_type": "code",
      "source": [
        "!pip3 install pygeocoder\n",
        "import argparse\n",
        "import os\n",
        "import random\n",
        "\n",
        "from pygeocoder import Geocoder, GeocoderError\n",
        "\n",
        "__version__ = '0.1.0'\n",
        "\n",
        "NORTHERNMOST = 49.\n",
        "SOUTHERNMOST = 25.\n",
        "EASTERNMOST = -66.\n",
        "WESTERNMOST = -124.\n",
        "\n",
        "def coordinate_generator(number_of_points):\n",
        "    \"\"\"\n",
        "    Generate a number of random geographical points and then geocode them.\n",
        "    :param number_of_points: number of points to generate\n",
        "    :type number_of_points: int\n",
        "    :return: list of geographic point tuples\n",
        "    \"\"\"\n",
        "\n",
        "    coordinate_list = []\n",
        "    counter = 0\n",
        "    geocoder = Geocoder()\n",
        "\n",
        "    while counter < number_of_points:\n",
        "        lat = round(random.uniform(SOUTHERNMOST, NORTHERNMOST), 6)\n",
        "        lng = round(random.uniform(EASTERNMOST, WESTERNMOST), 6)\n",
        "        try:\n",
        "            gcode = geocoder.reverse_geocode(lat, lng)\n",
        "\n",
        "            if gcode[0].data[0]['formatted_address'][-6:] in ('Canada', 'Mexico'):\n",
        "                continue\n",
        "            elif 'unnamed road' in gcode[0].data[0]['formatted_address']:\n",
        "                continue\n",
        "            elif 'Unnamed Road' in gcode[0].data[0]['formatted_address']:\n",
        "                continue\n",
        "            else:\n",
        "                counter += 1\n",
        "                coordinate_list.append((gcode[0].coordinates, gcode[0].formatted_address))\n",
        "            # output_file.write(fullstring.format(gcode.x, gcode.y, gcode.address))\n",
        "        except GeocoderError:\n",
        "            continue\n",
        "    print('Finished generating %d coordinate points' % counter)\n",
        "    print(coordinate_list)\n",
        "    return coordinate_list\n",
        "\n",
        "\n"
      ],
      "execution_count": 2,
      "outputs": [
        {
          "output_type": "stream",
          "text": [
            "Collecting pygeocoder\n",
            "  Downloading https://files.pythonhosted.org/packages/3b/79/2cf3a4dfe54705bbf07cbb25940078dfa595608aa4ecb9f0aaaae9faba08/pygeocoder-1.2.5.tar.gz\n",
            "Requirement already satisfied: requests>=1.0 in /usr/local/lib/python3.6/dist-packages (from pygeocoder) (2.18.4)\n",
            "Requirement already satisfied: idna<2.7,>=2.5 in /usr/local/lib/python3.6/dist-packages (from requests>=1.0->pygeocoder) (2.6)\n",
            "Requirement already satisfied: certifi>=2017.4.17 in /usr/local/lib/python3.6/dist-packages (from requests>=1.0->pygeocoder) (2019.3.9)\n",
            "Requirement already satisfied: urllib3<1.23,>=1.21.1 in /usr/local/lib/python3.6/dist-packages (from requests>=1.0->pygeocoder) (1.22)\n",
            "Requirement already satisfied: chardet<3.1.0,>=3.0.2 in /usr/local/lib/python3.6/dist-packages (from requests>=1.0->pygeocoder) (3.0.4)\n",
            "Building wheels for collected packages: pygeocoder\n",
            "  Building wheel for pygeocoder (setup.py) ... \u001b[?25ldone\n",
            "\u001b[?25h  Stored in directory: /root/.cache/pip/wheels/7c/4c/00/d05c66c4af5411c554c91b8079732c8a0359c2226fb8c01031\n",
            "Successfully built pygeocoder\n",
            "Installing collected packages: pygeocoder\n",
            "Successfully installed pygeocoder-1.2.5\n"
          ],
          "name": "stdout"
        }
      ]
    },
    {
      "metadata": {
        "id": "_v2YSbdmKD1c",
        "colab_type": "code",
        "colab": {}
      },
      "cell_type": "code",
      "source": [
        "def main(points, fname):\n",
        "    \"\"\"\n",
        "    write list of coordinates to file\n",
        "    :param points: number of points to generate\n",
        "    :param fname: name of output file\n",
        "    \"\"\"\n",
        "    fullstring = '{0}, {1}, \"{2}\"\\n'\n",
        "    coordinates = []\n",
        "    if os.path.isfile(fname):\n",
        "        proceed_message = \"File {} exists, proceed(y or n)? \"\n",
        "        proceed_prompt = raw_input(proceed_message.format(fname))\n",
        "        if proceed_prompt.lower() == 'y':\n",
        "            fout = open(fname, 'a')\n",
        "            number_of_points = points\n",
        "            coordinates = coordinate_generator(number_of_points)\n",
        "            # fout.close()\n",
        "            for loc in coordinates:\n",
        "                fout.write(fullstring.format(loc[0][1], loc[0][0], loc[1]))\n",
        "        else:\n",
        "            print('Aborting . . .')\n",
        "            exit()\n",
        "    else:\n",
        "        fout = open(fname, 'a')\n",
        "        number_of_points = points\n",
        "        coordinates = coordinate_generator(number_of_points)\n",
        "        print(coordinates)\n",
        "        for loc in coordinates:\n",
        "            fout.write(fullstring.format(loc[0][1], loc[0][0], loc[1]))\n",
        "        fout.close()\n",
        "\n"
      ],
      "execution_count": 0,
      "outputs": []
    },
    {
      "metadata": {
        "id": "aL1_mXF9KHkw",
        "colab_type": "code",
        "outputId": "ae2416eb-f3a8-4478-ba36-559f33a1fc40",
        "colab": {
          "base_uri": "https://localhost:8080/",
          "height": 167
        }
      },
      "cell_type": "code",
      "source": [
        "if __name__ == '__main__':\n",
        "    #pylint: disable=invalid-name\n",
        "    parser = argparse.ArgumentParser()\n",
        "    parser.add_argument(\"-p\", \"--points\", type=int,\n",
        "                        help=\"number of coordinate points to generate\"\n",
        "                        )\n",
        "    parser.add_argument(\"-o\", \"--output_file\",\n",
        "                        help=\"name of output file\",\n",
        "                        default=\"output.csv\")\n",
        "    sys.exit()\n",
        "    args = parser.parse_args()\n",
        "    \n",
        "    points = args.points\n",
        "    fname = args.output_file\n",
        "\n",
        "    main(points, fname)\n",
        "    "
      ],
      "execution_count": 0,
      "outputs": [
        {
          "output_type": "error",
          "ename": "SystemExit",
          "evalue": "ignored",
          "traceback": [
            "An exception has occurred, use %tb to see the full traceback.\n",
            "\u001b[0;31mSystemExit\u001b[0m\n"
          ]
        },
        {
          "output_type": "stream",
          "text": [
            "/usr/local/lib/python3.6/dist-packages/IPython/core/interactiveshell.py:2890: UserWarning: To exit: use 'exit', 'quit', or Ctrl-D.\n",
            "  \n"
          ],
          "name": "stderr"
        }
      ]
    }
  ]
}